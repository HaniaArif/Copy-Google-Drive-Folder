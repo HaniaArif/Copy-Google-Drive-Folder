{
  "nbformat": 4,
  "nbformat_minor": 0,
  "metadata": {
    "colab": {
      "name": "Copy Shared Data Folder to Own Google Drive.ipynb",
      "provenance": [],
      "collapsed_sections": [],
      "mount_file_id": "1YvY0206yZkF28_XGvSQKyxp6byDSQPRe",
      "authorship_tag": "ABX9TyP18W3Iu8WRQi7LXOMiCm9t"
    },
    "kernelspec": {
      "name": "python3",
      "display_name": "Python 3"
    },
    "language_info": {
      "name": "python"
    }
  },
  "cells": [
    {
      "cell_type": "code",
      "source": [
        "import sys\n",
        "import os\n",
        "\n",
        "import pandas as pd\n",
        "import numpy as np\n",
        "\n",
        "from glob import glob"
      ],
      "metadata": {
        "id": "FhtKQZ1afDAA"
      },
      "execution_count": 1,
      "outputs": []
    },
    {
      "cell_type": "code",
      "execution_count": 4,
      "metadata": {
        "id": "NM6CV_u0ehMo"
      },
      "outputs": [],
      "source": [
        "#Path to game folder\n",
        "data_dir = '/content/drive/MyDrive/EEG_RECORDING_GAMES_MUSE_DATA'\n",
        "\n",
        "#Path to folder where you need to save csv\n",
        "csv_dir = '/content/drive/MyDrive/EEG_RECORDING_GAMES_MUSE_DATA_CSV_COPIED'"
      ]
    },
    {
      "cell_type": "code",
      "source": [
        "data_path = os.path.join(data_dir,\n",
        "            'Subject{}/EEG_{}/*.csv'.format(\"*\", \"*\"))\n",
        "fnames = glob(data_path)\n",
        "len(fnames)\n",
        "subjects = []\n",
        "raw = []\n",
        "for name in fnames:\n",
        "  print(name)\n",
        "  subject = name.replace(data_dir+\"/\", \"\")\n",
        "  print(subject)\n",
        "  splitted_name = subject.split(\"/\")\n",
        "    \n",
        "  \n",
        "  # subdirs = path.replace(data_dir+\"/\", \"\")\n",
        "  # subjects.append(subdirs)\n",
        "  df = pd.read_csv(name, index_col=0)\n",
        "  csv_folder_path = csv_dir +\"/\"+ splitted_name[0] +\"/\"+splitted_name[1]\n",
        "  if not os.path.exists(csv_folder_path):\n",
        "    os.makedirs(csv_folder_path)\n",
        "  csv_path = csv_folder_path+\"/\"+splitted_name[2]\n",
        "  df.to_csv(csv_path)\n",
        "\n"
      ],
      "metadata": {
        "colab": {
          "base_uri": "https://localhost:8080/"
        },
        "id": "r-S_tC_YepHa",
        "outputId": "81f8e1c8-5d31-46fa-c984-042bb01e54aa"
      },
      "execution_count": 6,
      "outputs": [
        {
          "output_type": "stream",
          "name": "stdout",
          "text": [
            "/content/drive/MyDrive/EEG_RECORDING_GAMES_MUSE_DATA/Subject2_misbah/EEG_Subject2/Subject2_Tetris_Trial3.csv\n",
            "Subject2_misbah/EEG_Subject2/Subject2_Tetris_Trial3.csv\n",
            "/content/drive/MyDrive/EEG_RECORDING_GAMES_MUSE_DATA/Subject2_misbah/EEG_Subject2/Subject2_Tetris_Trial2.csv\n",
            "Subject2_misbah/EEG_Subject2/Subject2_Tetris_Trial2.csv\n",
            "/content/drive/MyDrive/EEG_RECORDING_GAMES_MUSE_DATA/Subject2_misbah/EEG_Subject2/Subject2_SubwaySurfer_Trial1.csv\n",
            "Subject2_misbah/EEG_Subject2/Subject2_SubwaySurfer_Trial1.csv\n"
          ]
        },
        {
          "output_type": "stream",
          "name": "stderr",
          "text": [
            "/usr/local/lib/python3.7/dist-packages/IPython/core/interactiveshell.py:2882: DtypeWarning: Columns (38) have mixed types.Specify dtype option on import or set low_memory=False.\n",
            "  exec(code_obj, self.user_global_ns, self.user_ns)\n"
          ]
        }
      ]
    }
  ]
}